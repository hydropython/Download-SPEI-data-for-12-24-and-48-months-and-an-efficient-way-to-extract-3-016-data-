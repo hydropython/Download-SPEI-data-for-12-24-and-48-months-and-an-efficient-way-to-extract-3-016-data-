{
 "cells": [
  {
   "cell_type": "markdown",
   "id": "7684402e-26d0-462d-8c18-f816d15ac24c",
   "metadata": {},
   "source": [
    "## **Objective one: Download climate data Spei 12,24 & 48"
   ]
  },
  {
   "cell_type": "code",
   "execution_count": null,
   "id": "9d0ad48c-25f7-4583-8a3a-89da09dd965c",
   "metadata": {},
   "outputs": [],
   "source": [
    "import xarray as xr\n",
    "import netCDF4 as nc\n",
    "from matplotlib import pyplot as plt\n",
    "import cartopy.crs as ccrs\n",
    "import cartopy.feature\n",
    "#da= nc.Dataset('C:/Users/Addisu/Downloads/spei01.nc')\n",
    "da=xr.open_dataset('C:/Users/Addisu/Downloads/spei01.nc')\n",
    "da\n",
    "\n",
    "print(da.keys())\n",
    "print(da)\n",
    "# print attributes in file metadata\n",
    "print(da.attrs)\n",
    "# print a list of array dimensions\n",
    "print(da.dims)\n",
    "# print a list of array coordinates\n",
    "print(da.coords)\n",
    "# print time and lon dim labels\n",
    "print(da.time)\n",
    "print(da.lon)\n",
    "\n",
    "df = pd.read_excel('C:/Users/Addisu/Downloads/Lat_lon.xls')\n",
    "df\n",
    "import pandas as pd\n",
    "dataf_list = []\n",
    "temp = pd.DataFrame([])\n",
    "df = pd.read_excel('C:/Users/Addisu/Downloads/Lat_lon.xls') # can also index sheet by name or fetch all sheets\n",
    "for index, row in df.iterrows():\n",
    "        dataf_list= da.sel(lat=row['latitude'],lon=row['longitude'],method='nearest')\n",
    "        DT=dataf_list.to_dataframe()\n",
    "        DT.insert(loc=0,column=\"hh_id_old\",value=row['hh_id_old'])\n",
    "        temp=pd.concat([DT,temp], ignore_index=True) \n",
    "print(temp)\n",
    "temp.to_csv('C:/Users/Addisu/Downloads/c.csv')"
   ]
  }
 ],
 "metadata": {
  "kernelspec": {
   "display_name": "Python 3 (ipykernel)",
   "language": "python",
   "name": "python3"
  },
  "language_info": {
   "codemirror_mode": {
    "name": "ipython",
    "version": 3
   },
   "file_extension": ".py",
   "mimetype": "text/x-python",
   "name": "python",
   "nbconvert_exporter": "python",
   "pygments_lexer": "ipython3",
   "version": "3.10.12"
  }
 },
 "nbformat": 4,
 "nbformat_minor": 5
}
